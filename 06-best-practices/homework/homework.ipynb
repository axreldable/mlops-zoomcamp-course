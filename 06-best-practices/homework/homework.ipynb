{
 "cells": [
  {
   "cell_type": "markdown",
   "id": "dacc9e14",
   "metadata": {},
   "source": [
    "### Q1. Refactoring\n",
    "Before we can start converting our code with tests, we need to refactor it. We'll start by getting rid of all the global variables.\n",
    "\n",
    "Let's create a function main with two parameters: year and month.\n",
    "Move all the code (except read_data) inside main\n",
    "Make categorical a parameter for read_data and pass it inside main\n",
    "Now we need to create the \"main\" block from which we'll invoke the main function. How does the if statement that we use for this looks like?\n"
   ]
  },
  {
   "cell_type": "markdown",
   "id": "7ab755a0",
   "metadata": {},
   "source": [
    "Answer is `if __name__ == \"__main__\":`"
   ]
  },
  {
   "cell_type": "code",
   "execution_count": null,
   "id": "345f4c52",
   "metadata": {},
   "outputs": [],
   "source": []
  }
 ],
 "metadata": {
  "kernelspec": {
   "display_name": "Python 3 (ipykernel)",
   "language": "python",
   "name": "python3"
  },
  "language_info": {
   "codemirror_mode": {
    "name": "ipython",
    "version": 3
   },
   "file_extension": ".py",
   "mimetype": "text/x-python",
   "name": "python",
   "nbconvert_exporter": "python",
   "pygments_lexer": "ipython3",
   "version": "3.9.12"
  }
 },
 "nbformat": 4,
 "nbformat_minor": 5
}
