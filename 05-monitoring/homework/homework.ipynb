{
 "cells": [
  {
   "cell_type": "markdown",
   "id": "aada925a",
   "metadata": {},
   "source": [
    "### Q1. Docker compose\n",
    "We'll start with the docker compose file in the homework directory. The file is ready to use and is in homework/docker-compose-homework.yml.\n",
    "\n",
    "Run docker compose. Once up and running, open the localhost for mongo.\n",
    "\n",
    "What’s the message you get in browser at http://localhost:27017?"
   ]
  },
  {
   "cell_type": "markdown",
   "id": "49a55a91",
   "metadata": {},
   "source": [
    "Answer is `It looks like you are trying to access MongoDB over HTTP on the native driver port.`"
   ]
  },
  {
   "cell_type": "markdown",
   "id": "4f899901",
   "metadata": {},
   "source": [
    "### Q2. Docker volume\n",
    "In the docker compose file we have specified the volume. We do it because we don't want to lose the data when we restart the services.\n",
    "\n",
    "We want to know what is this volume, so we can keep it safe and not delete it.\n",
    "\n",
    "What is the command to find the name of our volume?"
   ]
  },
  {
   "cell_type": "markdown",
   "id": "342bf59b",
   "metadata": {},
   "source": [
    "Answer is `docker volume ls`"
   ]
  },
  {
   "cell_type": "markdown",
   "id": "05bc128c",
   "metadata": {},
   "source": [
    "### Q3. Sending data to the prediction service\n",
    "The service is now up and running. When the requet comes in, it makes the prediction, and then saves it to mongo DB. Inspect the homework/prediction_service/app.py file. We want to simulate traffic and get it ready for monitoring. For that we have prepared a python script homework/prefect-monitoring/send_data.py.\n",
    "\n",
    "Run this script to score 5000 random datapoints for period 2021-05.\n",
    "\n",
    "What is the last prediction by the current model?"
   ]
  },
  {
   "cell_type": "markdown",
   "id": "2950c730",
   "metadata": {},
   "source": [
    "Answer is `15.74`"
   ]
  },
  {
   "cell_type": "markdown",
   "id": "7ee1e96c",
   "metadata": {},
   "source": [
    "### Q4. Generate evidently report using Prefect\n",
    "We have prepared the prefect monitoring script, which will use the target.csv file prepared in the previous step. In the script we have provided the reference data file (data on which model was trained on, 03-2021). We want to know if the trips in 05-2021 deviated from 03-2021.\n",
    "\n",
    "You may have to modify two functions in the prefect monitoring script to generate the evidently profile and evidently report, save_report and save_html_report.\n",
    "\n",
    "The monitoring script is located in homework/prefect-monitoring/prefect_monitoring.py\n",
    "\n",
    "How many model features have drifted based on the html report?"
   ]
  },
  {
   "cell_type": "markdown",
   "id": "8eb92bfa",
   "metadata": {},
   "source": [
    "Answer is `2`"
   ]
  },
  {
   "cell_type": "markdown",
   "id": "a3c55bb0",
   "metadata": {},
   "source": [
    "### Q5. Name of the test\n",
    "What’s the stats test for location ids?"
   ]
  },
  {
   "cell_type": "markdown",
   "id": "4c9c963d",
   "metadata": {},
   "source": [
    "Answer is `Jensen-Shannon distance`"
   ]
  },
  {
   "cell_type": "markdown",
   "id": "f95de0ae",
   "metadata": {},
   "source": [
    "### Q6. Sending data to the prediction service with new model\n",
    "Suppose some of the features have drifted. We want to run the new model to observe how it performs and compare it to the previous model. To do this, we need to make few modifications. In the docker compose file, change two environment variables: MODEL_FILE and MODEL_VERSION, pointing to the other model and providing a new model version.\n",
    "\n",
    "Once updated, restart the servers, so environment variables are updated.\n",
    "\n",
    "Similar to Q3, we will simulate the traffic with same data points, running the send_data.py file.\n",
    "\n",
    "Before we run this, we need to clean the mongo database.\n",
    "\n",
    "To do it, run homework/prefect-monitoring/clean_mongo.py.\n",
    "\n",
    "What is the last prediction made by the new model?"
   ]
  },
  {
   "cell_type": "code",
   "execution_count": null,
   "id": "2998c121",
   "metadata": {},
   "outputs": [],
   "source": [
    "Answer is `Jensen-Shannon distance`"
   ]
  }
 ],
 "metadata": {
  "kernelspec": {
   "display_name": "Python 3 (ipykernel)",
   "language": "python",
   "name": "python3"
  },
  "language_info": {
   "codemirror_mode": {
    "name": "ipython",
    "version": 3
   },
   "file_extension": ".py",
   "mimetype": "text/x-python",
   "name": "python",
   "nbconvert_exporter": "python",
   "pygments_lexer": "ipython3",
   "version": "3.9.12"
  }
 },
 "nbformat": 4,
 "nbformat_minor": 5
}
