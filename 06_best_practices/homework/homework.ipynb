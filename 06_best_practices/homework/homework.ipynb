{
 "cells": [
  {
   "cell_type": "markdown",
   "id": "f584c985",
   "metadata": {},
   "source": [
    "### Q1. Refactoring\n",
    "Before we can start converting our code with tests, we need to refactor it. We'll start by getting rid of all the global variables.\n",
    "\n",
    "Let's create a function main with two parameters: year and month.\n",
    "Move all the code (except read_data) inside main\n",
    "Make categorical a parameter for read_data and pass it inside main\n",
    "Now we need to create the \"main\" block from which we'll invoke the main function. How does the if statement that we use for this looks like?\n"
   ]
  },
  {
   "cell_type": "markdown",
   "id": "8a89c961",
   "metadata": {},
   "source": [
    "Answer is `if __name__ == \"__main__\":`"
   ]
  },
  {
   "cell_type": "markdown",
   "id": "cbd48db1",
   "metadata": {},
   "source": [
    "### Q2. Installing pytest\n",
    "Now we need to install pytest:\n",
    "\n",
    "pipenv install --dev pytest\n",
    "Next, create a folder tests and create two files. One will be the file with tests. We can name it test_batch.py.\n",
    "\n",
    "What should be the other file?"
   ]
  },
  {
   "cell_type": "markdown",
   "id": "f10e1db4",
   "metadata": {},
   "source": [
    "Answer is `if __name__ == \"__main__\":`"
   ]
  },
  {
   "cell_type": "markdown",
   "id": "d0046fe7",
   "metadata": {},
   "source": [
    "### Q3. Writing first unit test"
   ]
  },
  {
   "cell_type": "code",
   "execution_count": null,
   "id": "d6781cdd",
   "metadata": {},
   "outputs": [],
   "source": []
  }
 ],
 "metadata": {
  "kernelspec": {
   "display_name": "Python 3 (ipykernel)",
   "language": "python",
   "name": "python3"
  },
  "language_info": {
   "codemirror_mode": {
    "name": "ipython",
    "version": 3
   },
   "file_extension": ".py",
   "mimetype": "text/x-python",
   "name": "python",
   "nbconvert_exporter": "python",
   "pygments_lexer": "ipython3",
   "version": "3.9.12"
  }
 },
 "nbformat": 4,
 "nbformat_minor": 5
}
