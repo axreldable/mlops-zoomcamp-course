{
 "cells": [
  {
   "cell_type": "markdown",
   "id": "a53c14fe",
   "metadata": {},
   "source": [
    "## Homework\n",
    "The goal of this homework is to get familiar with MLflow.\n",
    "\n",
    "### Q1. Install MLflow\n",
    "To get started with MLflow you'll need to install the MLflow Python package.\n",
    "\n",
    "For this we recommend creating a separate Python environment, for example, you can use conda environments, and then install the package there with pip or conda.\n",
    "\n",
    "Once you installed the package, run the command mlflow --version and check the output.\n",
    "\n",
    "What's the version that you have?"
   ]
  },
  {
   "cell_type": "code",
   "execution_count": 1,
   "id": "18a0093f",
   "metadata": {},
   "outputs": [
    {
     "name": "stdout",
     "output_type": "stream",
     "text": [
      "mlflow, version 1.28.0\r\n"
     ]
    }
   ],
   "source": [
    "!mlflow --version"
   ]
  },
  {
   "cell_type": "markdown",
   "id": "186fc08f",
   "metadata": {},
   "source": [
    "Answer is `1.28.0`"
   ]
  },
  {
   "cell_type": "markdown",
   "id": "bd890b22",
   "metadata": {},
   "source": [
    "### Q2. Download and preprocess the data\n",
    "\n",
    "How many files were saved to OUTPUT_FOLDER?"
   ]
  },
  {
   "cell_type": "code",
   "execution_count": 5,
   "id": "d3ed4071",
   "metadata": {},
   "outputs": [],
   "source": [
    "!python ./steps/preprocess_data.py --raw_data_path ../01-intro/data --dest_path ./output"
   ]
  },
  {
   "cell_type": "markdown",
   "id": "afd5aa82",
   "metadata": {},
   "source": [
    "Answer is `4`"
   ]
  },
  {
   "cell_type": "markdown",
   "id": "93420c74",
   "metadata": {},
   "source": [
    "### Q3. Train a model with autolog\n",
    "\n",
    "How many parameters are automatically logged by MLflow?"
   ]
  },
  {
   "cell_type": "code",
   "execution_count": 7,
   "id": "67bbcc37",
   "metadata": {},
   "outputs": [
    {
     "name": "stdout",
     "output_type": "stream",
     "text": [
      "2022/08/21 16:16:57 INFO mlflow.tracking.fluent: Experiment with name 'my-homework-1' does not exist. Creating a new experiment.\n",
      "2022/08/21 16:16:57 INFO mlflow.tracking.fluent: Autologging successfully enabled for sklearn.\n",
      "2022/08/21 16:17:14 WARNING mlflow.utils.autologging_utils: MLflow autologging encountered a warning: \"/usr/local/anaconda3/envs/mlops-zoomcamp-course/lib/python3.9/site-packages/_distutils_hack/__init__.py:30: UserWarning: Setuptools is replacing distutils.\"\n"
     ]
    }
   ],
   "source": [
    "!python ./steps/train.py"
   ]
  },
  {
   "cell_type": "markdown",
   "id": "976fa29e",
   "metadata": {},
   "source": [
    "Answer is `17`"
   ]
  },
  {
   "cell_type": "markdown",
   "id": "a901381d",
   "metadata": {},
   "source": [
    "### Q4. Launch the tracking server locally\n",
    "\n",
    "In addition to `backend-store-uri`, what else do you need to pass to properly configure the server?"
   ]
  },
  {
   "cell_type": "markdown",
   "id": "916f3e42",
   "metadata": {},
   "source": [
    "Answer is `default-artifact-root`"
   ]
  },
  {
   "cell_type": "markdown",
   "id": "fbcc9e4a",
   "metadata": {},
   "source": [
    "### Q5. Tune the hyperparameters of the model\n",
    "\n",
    "What's the best validation RMSE that you got?"
   ]
  },
  {
   "cell_type": "code",
   "execution_count": 14,
   "id": "b8be2aa8",
   "metadata": {},
   "outputs": [
    {
     "name": "stdout",
     "output_type": "stream",
     "text": [
      "100%|█████████| 50/50 [05:11<00:00,  6.23s/trial, best loss: 6.6284257482044735]\n"
     ]
    }
   ],
   "source": [
    "!python ./steps/hpo.py"
   ]
  },
  {
   "cell_type": "markdown",
   "id": "cc13bc07",
   "metadata": {},
   "source": [
    "Answer is `6.628`"
   ]
  },
  {
   "cell_type": "markdown",
   "id": "6d59be04",
   "metadata": {},
   "source": [
    "### Q6. Promote the best model to the model registry\n",
    "\n",
    "What is the test RMSE of the best model?"
   ]
  },
  {
   "cell_type": "code",
   "execution_count": 31,
   "id": "42688236",
   "metadata": {},
   "outputs": [
    {
     "name": "stdout",
     "output_type": "stream",
     "text": [
      "2022/08/21 17:06:56 INFO mlflow.tracking.fluent: Experiment with name 'random-forest-best-models' does not exist. Creating a new experiment.\n",
      "2022/08/21 17:07:10 WARNING mlflow.utils.autologging_utils: MLflow autologging encountered a warning: \"/usr/local/anaconda3/envs/mlops-zoomcamp-course/lib/python3.9/site-packages/_distutils_hack/__init__.py:30: UserWarning: Setuptools is replacing distutils.\"\n",
      "Successfully registered model 'random-forest-best-model'.\n",
      "2022/08/21 17:08:08 INFO mlflow.tracking._model_registry.client: Waiting up to 300 seconds for model version to finish creation.                     Model name: random-forest-best-model, version 1\n",
      "Created version '1' of model 'random-forest-best-model'.\n"
     ]
    }
   ],
   "source": [
    "!python ./steps/register_model.py"
   ]
  },
  {
   "cell_type": "markdown",
   "id": "41a91fc8",
   "metadata": {},
   "source": [
    "Answer is `6.548` for me. The closest is `6.55`"
   ]
  }
 ],
 "metadata": {
  "kernelspec": {
   "display_name": "Python 3 (ipykernel)",
   "language": "python",
   "name": "python3"
  },
  "language_info": {
   "codemirror_mode": {
    "name": "ipython",
    "version": 3
   },
   "file_extension": ".py",
   "mimetype": "text/x-python",
   "name": "python",
   "nbconvert_exporter": "python",
   "pygments_lexer": "ipython3",
   "version": "3.9.12"
  }
 },
 "nbformat": 4,
 "nbformat_minor": 5
}
