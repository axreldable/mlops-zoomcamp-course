{
 "cells": [
  {
   "cell_type": "markdown",
   "id": "a8c26aca",
   "metadata": {},
   "source": [
    "### Q1. Notebook\n",
    "We'll start with the same notebook we ended up with in homework 1.\n",
    "\n",
    "We cleaned it a little bit and kept only the scoring part. Now it's in homework/starter.ipynb.\n",
    "\n",
    "Run this notebook for the February 2021 FVH data.\n",
    "\n",
    "What's the mean predicted duration for this dataset?"
   ]
  },
  {
   "cell_type": "markdown",
   "id": "6d3c1341",
   "metadata": {},
   "source": [
    "Answer is `16.19`"
   ]
  },
  {
   "cell_type": "markdown",
   "id": "cc3796d7",
   "metadata": {},
   "source": [
    "### Q2. Preparing the output\n",
    "Like in the course videos, we want to prepare the dataframe with the output.\n",
    "\n",
    "First, let's create an artificial ride_id column:\n",
    "\n",
    "df['ride_id'] = f'{year:04d}/{month:02d}_' + df.index.astype('str')\n",
    "Next, write the ride id and the predictions to a dataframe with results.\n",
    "\n",
    "Save it as parquet:\n",
    "\n",
    "df_result.to_parquet(\n",
    "    output_file,\n",
    "    engine='pyarrow',\n",
    "    compression=None,\n",
    "    index=False\n",
    ")\n",
    "What's the size of the output file?"
   ]
  },
  {
   "cell_type": "markdown",
   "id": "10e06bae",
   "metadata": {},
   "source": [
    "Answer is `39M`"
   ]
  },
  {
   "cell_type": "markdown",
   "id": "ae648fcb",
   "metadata": {},
   "source": [
    "### Q3. Creating the scoring script\n",
    "Now let's turn the notebook into a script.\n",
    "\n",
    "Which command you need to execute for that?"
   ]
  },
  {
   "cell_type": "markdown",
   "id": "48711a78",
   "metadata": {},
   "source": [
    "Answer is `jupyter nbconvert --to script starter.ipynb `"
   ]
  },
  {
   "cell_type": "markdown",
   "id": "5fe92fd0",
   "metadata": {},
   "source": [
    "### Q4. Virtual environment\n",
    "Now let's put everything into a virtual environment. We'll use pipenv for that.\n",
    "\n",
    "Install all the required libraries. Pay attention to the Scikit-Learn version: check the starter notebook for details.\n",
    "\n",
    "After installing the libraries, pipenv creates two files: Pipfile and Pipfile.lock. The Pipfile.lock file keeps the hashes of the dependencies we use for the virtual env.\n",
    "\n",
    "What's the first hash for the Scikit-Learn dependency?"
   ]
  },
  {
   "cell_type": "markdown",
   "id": "be3c0f5a",
   "metadata": {},
   "source": [
    "Answer is `sha256:08ef968f6b72033c16c479c966bf37ccd49b06ea91b765e1cc27afefe723920b`"
   ]
  },
  {
   "cell_type": "markdown",
   "id": "d2f72989",
   "metadata": {},
   "source": [
    "### Q5. Parametrize the script\n",
    "Let's now make the script configurable via CLI. We'll create two parameters: year and month.\n",
    "\n",
    "Run the script for March 2021.\n",
    "\n",
    "What's the mean predicted duration?"
   ]
  },
  {
   "cell_type": "markdown",
   "id": "481aafc6",
   "metadata": {},
   "source": [
    "Answer is `16.29`"
   ]
  },
  {
   "cell_type": "markdown",
   "id": "f90b5741",
   "metadata": {},
   "source": [
    "### Q6. Docker contaner\n",
    "Finally, we'll package the script in the docker container. For that, you'll need to use a base image that we prepared.\n",
    "\n",
    "This is how it looks like:\n",
    "\n",
    "FROM python:3.9.7-slim\n",
    "\n",
    "WORKDIR /app\n",
    "COPY [ \"model2.bin\", \"model.bin\" ]\n",
    "(see homework/Dockerfile)\n",
    "\n",
    "We pushed it to agrigorev/zoomcamp-model:mlops-3.9.7-slim, which you should use as your base image.\n",
    "\n",
    "That is, this is how your Dockerfile should start:\n",
    "\n",
    "FROM agrigorev/zoomcamp-model:mlops-3.9.7-slim\n",
    "\n",
    "`# do stuff here`  \n",
    "This image already has a pickle file with a dictionary vectorizer and a model. You will need to use them.\n",
    "\n",
    "Important: don't copy the model to the docker image. You will need to use the pickle file already in the image.\n",
    "\n",
    "Now run the script with docker. What's the mean predicted duration for April 2021?"
   ]
  },
  {
   "cell_type": "markdown",
   "id": "2ce49cb2",
   "metadata": {},
   "source": [
    "Answer is `16.29`"
   ]
  },
  {
   "cell_type": "code",
   "execution_count": null,
   "id": "56a95056",
   "metadata": {},
   "outputs": [],
   "source": []
  }
 ],
 "metadata": {
  "kernelspec": {
   "display_name": "Python 3 (ipykernel)",
   "language": "python",
   "name": "python3"
  },
  "language_info": {
   "codemirror_mode": {
    "name": "ipython",
    "version": 3
   },
   "file_extension": ".py",
   "mimetype": "text/x-python",
   "name": "python",
   "nbconvert_exporter": "python",
   "pygments_lexer": "ipython3",
   "version": "3.9.12"
  }
 },
 "nbformat": 4,
 "nbformat_minor": 5
}
