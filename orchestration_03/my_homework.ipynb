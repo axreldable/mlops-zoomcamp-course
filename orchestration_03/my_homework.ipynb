{
 "cells": [
  {
   "cell_type": "markdown",
   "id": "a53c14fe",
   "metadata": {},
   "source": [
    "## 3.6 Homework"
   ]
  },
  {
   "cell_type": "markdown",
   "id": "afea74f0",
   "metadata": {},
   "source": [
    "### Q1. Converting the script to a Prefect flow"
   ]
  },
  {
   "cell_type": "code",
   "execution_count": 2,
   "id": "abcf7183",
   "metadata": {},
   "outputs": [
    {
     "name": "stdout",
     "output_type": "stream",
     "text": [
      "The mean duration of training is 16.2472533682457\n",
      "The mean duration of validation is 16.859265811074096\n",
      "The shape of X_train is (1109826, 525)\n",
      "The DictVectorizer has 525 features\n",
      "The MSE of training is: 10.528519419910545\n",
      "The MSE of validation is: 11.014286964978254\n"
     ]
    }
   ],
   "source": [
    "!python homework.py"
   ]
  },
  {
   "cell_type": "markdown",
   "id": "797245fb",
   "metadata": {},
   "source": [
    "We want to bring this to workflow orchestration to add observability around it. The main function will be converted to a flow and the other functions will be tasks. After adding all of the decorators, there is actually one task that you will need to call .result() for inside the flow to get it to work. Which task is this?  "
   ]
  },
  {
   "cell_type": "code",
   "execution_count": 5,
   "id": "6bf3dc53",
   "metadata": {},
   "outputs": [
    {
     "name": "stdout",
     "output_type": "stream",
     "text": [
      "21:43:46.651 | INFO    | prefect.engine - Created flow run 'offbeat-guan' for flow 'main'\n",
      "21:43:46.651 | INFO    | Flow run 'offbeat-guan' - Using task runner 'ConcurrentTaskRunner'\n",
      "21:43:46.663 | WARNING | Flow run 'offbeat-guan' - No default storage is configured on the server. Results from this flow run will be stored in a temporary directory in its runtime environment.\n",
      "21:43:46.706 | INFO    | Flow run 'offbeat-guan' - Created task run 'read_data-4c7f9de4-0' for task 'read_data'\n",
      "21:43:46.736 | INFO    | Flow run 'offbeat-guan' - Created task run 'prepare_features-4ee39d9f-0' for task 'prepare_features'\n",
      "21:43:46.805 | INFO    | Flow run 'offbeat-guan' - Created task run 'read_data-4c7f9de4-1' for task 'read_data'\n",
      "21:43:46.849 | INFO    | Flow run 'offbeat-guan' - Created task run 'prepare_features-4ee39d9f-1' for task 'prepare_features'\n",
      "21:43:49.893 | INFO    | Flow run 'offbeat-guan' - Created task run 'train_model-7c866860-0' for task 'train_model'\n",
      "21:43:52.080 | INFO    | Task run 'read_data-4c7f9de4-0' - Finished in state Completed()\n",
      "21:43:52.826 | INFO    | Task run 'read_data-4c7f9de4-1' - Finished in state Completed()\n",
      "The mean duration of training is 16.2472533682457\n",
      "The mean duration of validation is 16.859265811074096\n",
      "21:44:02.538 | INFO    | Task run 'prepare_features-4ee39d9f-0' - Finished in state Completed()\n",
      "21:44:03.656 | INFO    | Task run 'prepare_features-4ee39d9f-1' - Finished in state Completed()\n",
      "The shape of X_train is (1109826, 525)\n",
      "The DictVectorizer has 525 features\n",
      "The MSE of training is: 10.528519419910545\n",
      "21:44:12.853 | INFO    | Task run 'train_model-7c866860-0' - Finished in state Completed()\n",
      "21:44:12.872 | INFO    | Flow run 'offbeat-guan' - Created task run 'run_model-6559300c-0' for task 'run_model'\n",
      "The MSE of validation is: 11.014286964978254\n",
      "21:44:16.813 | INFO    | Task run 'run_model-6559300c-0' - Finished in state Completed()\n",
      "21:44:22.846 | INFO    | Flow run 'offbeat-guan' - Finished in state Completed('All states completed.')\n"
     ]
    }
   ],
   "source": [
    "!python homework.py"
   ]
  },
  {
   "cell_type": "markdown",
   "id": "5ca68494",
   "metadata": {},
   "source": [
    "Answer is `train_model`"
   ]
  },
  {
   "cell_type": "markdown",
   "id": "efa066c5",
   "metadata": {},
   "source": [
    "### Q2. Parameterizing the flow\n",
    "\n",
    "The validation MSE is:"
   ]
  },
  {
   "cell_type": "code",
   "execution_count": 2,
   "id": "43739e61",
   "metadata": {},
   "outputs": [
    {
     "name": "stdout",
     "output_type": "stream",
     "text": [
      "21:51:33.982 | INFO    | prefect.engine - Created flow run 'rampant-bulldog' for flow 'main'\n",
      "21:51:33.982 | INFO    | Flow run 'rampant-bulldog' - Using task runner 'ConcurrentTaskRunner'\n",
      "21:51:33.992 | WARNING | Flow run 'rampant-bulldog' - No default storage is configured on the server. Results from this flow run will be stored in a temporary directory in its runtime environment.\n",
      "21:51:34.036 | INFO    | Flow run 'rampant-bulldog' - Created task run 'get_paths-6e696e34-0' for task 'get_paths'\n",
      "21:51:34.082 | INFO    | Task run 'get_paths-6e696e34-0' - Finished in state Completed()\n",
      "21:51:34.102 | INFO    | Flow run 'rampant-bulldog' - Created task run 'read_data-4c7f9de4-0' for task 'read_data'\n",
      "21:51:34.128 | INFO    | Flow run 'rampant-bulldog' - Created task run 'prepare_features-4ee39d9f-0' for task 'prepare_features'\n",
      "21:51:34.196 | INFO    | Flow run 'rampant-bulldog' - Created task run 'read_data-4c7f9de4-1' for task 'read_data'\n",
      "21:51:34.232 | INFO    | Flow run 'rampant-bulldog' - Created task run 'prepare_features-4ee39d9f-1' for task 'prepare_features'\n",
      "21:51:37.555 | INFO    | Flow run 'rampant-bulldog' - Created task run 'train_model-7c866860-0' for task 'train_model'\n",
      "21:51:40.037 | INFO    | Task run 'read_data-4c7f9de4-0' - Finished in state Completed()\n",
      "21:51:40.964 | INFO    | Task run 'read_data-4c7f9de4-1' - Finished in state Completed()\n",
      "The mean duration of training is 18.230538791569113\n",
      "The mean duration of validation is 17.91113046137945\n",
      "21:51:51.378 | INFO    | Task run 'prepare_features-4ee39d9f-0' - Finished in state Completed()\n",
      "21:51:52.595 | INFO    | Task run 'prepare_features-4ee39d9f-1' - Finished in state Completed()\n",
      "The shape of X_train is (1222031, 525)\n",
      "The DictVectorizer has 525 features\n",
      "The MSE of training is: 11.789353669002155\n",
      "21:52:02.191 | INFO    | Task run 'train_model-7c866860-0' - Finished in state Completed()\n",
      "21:52:02.212 | INFO    | Flow run 'rampant-bulldog' - Created task run 'run_model-6559300c-0' for task 'run_model'\n",
      "The MSE of validation is: 11.637031762599051\n",
      "21:52:06.798 | INFO    | Task run 'run_model-6559300c-0' - Finished in state Completed()\n",
      "21:52:12.376 | INFO    | Flow run 'rampant-bulldog' - Finished in state Completed('All states completed.')\n"
     ]
    }
   ],
   "source": [
    "!python homework.py"
   ]
  },
  {
   "cell_type": "markdown",
   "id": "0c0faa21",
   "metadata": {},
   "source": [
    "Answer is `11.637`"
   ]
  },
  {
   "cell_type": "markdown",
   "id": "b07c79a0",
   "metadata": {},
   "source": [
    "### Q3. Saving the model and artifacts"
   ]
  },
  {
   "cell_type": "code",
   "execution_count": null,
   "id": "06633214",
   "metadata": {},
   "outputs": [],
   "source": []
  }
 ],
 "metadata": {
  "kernelspec": {
   "display_name": "Python 3 (ipykernel)",
   "language": "python",
   "name": "python3"
  },
  "language_info": {
   "codemirror_mode": {
    "name": "ipython",
    "version": 3
   },
   "file_extension": ".py",
   "mimetype": "text/x-python",
   "name": "python",
   "nbconvert_exporter": "python",
   "pygments_lexer": "ipython3",
   "version": "3.9.12"
  }
 },
 "nbformat": 4,
 "nbformat_minor": 5
}
